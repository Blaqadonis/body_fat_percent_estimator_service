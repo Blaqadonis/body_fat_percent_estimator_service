{
 "cells": [
  {
   "attachments": {},
   "cell_type": "markdown",
   "id": "7d3ed38e",
   "metadata": {},
   "source": [
    "Let's train the model with some observability. We'll use MLflow."
   ]
  },
  {
   "cell_type": "code",
   "execution_count": 12,
   "id": "2e25cf66",
   "metadata": {},
   "outputs": [],
   "source": [
    "# **DATA PROCESSING**\n",
    "import numpy as np # Array Processing\n",
    "import pandas as pd # Data Processing\n",
    "from sklearn.pipeline import make_pipeline\n",
    "from sklearn.feature_extraction import DictVectorizer\n",
    "\n",
    "# **MACHINE LEARNING MODELS**\n",
    "from sklearn.linear_model import LinearRegression\n",
    "\n",
    "# **METRICS**\n",
    "from sklearn.metrics import r2_score\n",
    "\n",
    "# **EXPERIMENT TRACKING**\n",
    "import mlflow\n",
    "import pickle"
   ]
  },
  {
   "cell_type": "code",
   "execution_count": 13,
   "id": "506bec39",
   "metadata": {},
   "outputs": [
    {
     "data": {
      "text/plain": [
       "<Experiment: artifact_location='file:///C:/Users/Odiaka/My_Shit/stadium/artifacts/1', creation_time=1686651226992, experiment_id='1', last_update_time=1686651226992, lifecycle_stage='active', name='Bodyfat-Percent-Prediction-Experiment', tags={}>"
      ]
     },
     "execution_count": 13,
     "metadata": {},
     "output_type": "execute_result"
    }
   ],
   "source": [
    "mlflow.set_tracking_uri(\"http://127.0.0.1:5000\")\n",
    "mlflow.set_experiment(\"Bodyfat-Percent-Prediction-Experiment\")"
   ]
  },
  {
   "cell_type": "code",
   "execution_count": 14,
   "id": "b9666e19",
   "metadata": {},
   "outputs": [],
   "source": [
    "def read_dataframe(filename):\n",
    "    df = pd.read_csv(filename)\n",
    "\n",
    "    #df[\"Density\"] = np.where(df[\"Density\"] < 1.15 , df[\"Density\"].mean() , df[\"Density\"])\n",
    "    #df[\"Age\"] = np.where(df[\"Age\"] < 100 , df[\"Age\"].mean() , df[\"Age\"])\n",
    "    df[\"Weight\"] = np.where(df[\"Weight\"] > 250 , df[\"Weight\"].mean() , df[\"Weight\"])\n",
    "    df[\"Height\"] = np.where(df[\"Height\"] < 30 , df[\"Height\"].mean() , df[\"Height\"])\n",
    "    df[\"Neck\"] = np.where(df[\"Neck\"] < 32.5 , df[\"Neck\"].mean() , df[\"Neck\"])\n",
    "    df[\"Neck\"] = np.where(df[\"Neck\"] > 45 , df[\"Neck\"].mean() , df[\"Neck\"])\n",
    "    df[\"Chest\"] = np.where(df[\"Chest\"] > 125 , df[\"Chest\"].mean() , df[\"Chest\"])\n",
    "    df[\"Abdomen\"] = np.where(df[\"Abdomen\"] > 120 , df[\"Abdomen\"].mean() , df[\"Abdomen\"])\n",
    "    df[\"Hip\"] = np.where(df[\"Hip\"] > 115 , df[\"Hip\"].mean() , df[\"Hip\"])\n",
    "    df[\"Thigh\"] = np.where(df[\"Thigh\"] > 72 , df[\"Thigh\"].mean() , df[\"Thigh\"])\n",
    "    df[\"Knee\"] = np.where(df[\"Knee\"] > 44 , df[\"Knee\"].mean() , df[\"Knee\"])\n",
    "    df[\"Biceps\"] = np.where(df[\"Biceps\"] > 40 , df[\"Biceps\"].mean() , df[\"Biceps\"])\n",
    "    df[\"Forearm\"] = np.where(df[\"Forearm\"] > 34 , df[\"Forearm\"].mean() , df[\"Forearm\"])\n",
    "    df[\"Forearm\"] = np.where(df[\"Forearm\"] < 25 , df[\"Forearm\"].mean() , df[\"Forearm\"])\n",
    "    df[\"Wrist\"] = np.where(df[\"Wrist\"] > 20.5 , df[\"Wrist\"].mean() , df[\"Wrist\"])\n",
    "    df[\"Wrist\"] = np.where(df[\"Wrist\"] < 16 , df[\"Wrist\"].mean() , df[\"Wrist\"])\n",
    "\n",
    "    return df\n",
    "\n",
    "def split_dataframe(dataframe):\n",
    "    train , test = np.split(dataframe.sample(frac = 1) , [int(0.8 * len(dataframe))])\n",
    "    return train, test\n",
    "\n",
    "def prepare_features(dataframe):\n",
    "    x = dataframe.drop(\"BodyFat\" , axis = 1)\n",
    "    y = dataframe[\"BodyFat\"]\n",
    "    return x , y\n",
    "\n",
    "def prepare_dictionaries(df):\n",
    "    df_dicts = df.to_dict(orient='records')\n",
    "    return df_dicts\n",
    "\n"
   ]
  },
  {
   "cell_type": "code",
   "execution_count": 15,
   "id": "6b5f0d80",
   "metadata": {},
   "outputs": [],
   "source": [
    "data = read_dataframe('data/bodyfat.csv')\n",
    "train, val = split_dataframe(data)\n",
    "Xtrain, ytrain = prepare_features(train)\n",
    "Xval, yval = prepare_features(val)\n",
    "train_dicts = prepare_dictionaries(Xtrain)\n",
    "val_dicts = prepare_dictionaries(Xval)"
   ]
  },
  {
   "cell_type": "code",
   "execution_count": 16,
   "id": "c73081e1",
   "metadata": {},
   "outputs": [
    {
     "name": "stdout",
     "output_type": "stream",
     "text": [
      "These model gave this r2 score 0.9792049200840283\n"
     ]
    }
   ],
   "source": [
    "with mlflow.start_run():\n",
    "    mlflow.set_tag('Developer', '🅱🅻🅰🆀')\n",
    "\n",
    "    mlflow.set_tag('Description', 'Second training with (dv+model) pipeline')\n",
    "    \n",
    "    pipeline = make_pipeline(\n",
    "        DictVectorizer(),\n",
    "        LinearRegression()\n",
    "    )\n",
    "\n",
    "    pipeline.fit(train_dicts, ytrain)\n",
    "    y_pred = pipeline.predict(val_dicts)\n",
    "    \n",
    "\n",
    "    score = r2_score(yval, y_pred)\n",
    "    print(f'These model gave this r2 score {score}')\n",
    "    mlflow.log_metric('r2 score', score)\n",
    "    \n",
    "\n",
    "    mlflow.sklearn.log_model(pipeline, artifact_path=\"model\")"
   ]
  },
  {
   "cell_type": "code",
   "execution_count": null,
   "id": "acf87785",
   "metadata": {},
   "outputs": [],
   "source": [
    "with open('models/pipeline.bin', 'wb') as f_in:\n",
    "    pickle.dump((pipeline), f_in)"
   ]
  },
  {
   "cell_type": "code",
   "execution_count": null,
   "id": "eb9773b5",
   "metadata": {},
   "outputs": [],
   "source": []
  }
 ],
 "metadata": {
  "kernelspec": {
   "display_name": "Python 3 (ipykernel)",
   "language": "python",
   "name": "python3"
  },
  "language_info": {
   "codemirror_mode": {
    "name": "ipython",
    "version": 3
   },
   "file_extension": ".py",
   "mimetype": "text/x-python",
   "name": "python",
   "nbconvert_exporter": "python",
   "pygments_lexer": "ipython3",
   "version": "3.9.16"
  }
 },
 "nbformat": 4,
 "nbformat_minor": 5
}
